{
 "cells": [
  {
   "cell_type": "markdown",
   "id": "beb25b0c-a958-4f19-8e03-e1b0cbc777e2",
   "metadata": {},
   "source": [
    "<center>\n",
    "    <img src=\"https://cf-courses-data.s3.us.cloud-object-storage.appdomain.cloud/IBMDeveloperSkillsNetwork-DS0105EN-SkillsNetwork/labs/Module2/images/SN_web_lightmode.png\" width=\"300\" alt=\"cognitiveclass.ai logo\">\n",
    "</center>\n"
   ]
  },
  {
   "cell_type": "markdown",
   "id": "cfa38ca3-76df-4de2-be50-5505ce72b638",
   "metadata": {},
   "source": [
    "# Data Science Tools and Ecosystem\n"
   ]
  },
  {
   "cell_type": "markdown",
   "id": "224a6c75-afd3-41d2-982b-26e2bed0e1c4",
   "metadata": {},
   "source": [
    "In this notebook, Data Science Tools and Ecosystem are summarized."
   ]
  },
  {
   "cell_type": "markdown",
   "id": "e0e86ea7-45b2-4486-bf56-ebc057d157ac",
   "metadata": {},
   "source": [
    "**Objectives:**"
   ]
  },
  {
   "cell_type": "markdown",
   "id": "001dffe6-f493-4023-ba03-19d944441b88",
   "metadata": {},
   "source": [
    "• List popular languages for Data Science\n",
    "\n",
    "• List the commonly used libraries used by Data Scientists\n",
    "\n",
    "• Name the main Data Science Tools\n",
    "\n",
    "• Evaluate some arithmetic expressions in Python"
   ]
  },
  {
   "cell_type": "markdown",
   "id": "759f644d-39a8-49eb-9d38-4af90639d087",
   "metadata": {},
   "source": [
    "Some of the popular languages that Data Scientists use are:"
   ]
  },
  {
   "cell_type": "markdown",
   "id": "7395c310-de7e-46eb-b200-c79f08318dde",
   "metadata": {},
   "source": [
    "1. Python\n",
    "2. Scala\n",
    "3. R\n",
    "4. Java+\n",
    "5. C++"
   ]
  },
  {
   "cell_type": "markdown",
   "id": "c187c705-4d51-48ba-976f-022bf91c2c93",
   "metadata": {},
   "source": [
    "Some of the commonly used libraries used by Data Scientists include:"
   ]
  },
  {
   "cell_type": "markdown",
   "id": "0eb823c6-d56d-4ad6-810d-6e35aacef6bd",
   "metadata": {},
   "source": [
    "1. NumPy\n",
    "2.  Pandas\n",
    "3. Keras\n",
    "4. Seaborn"
   ]
  },
  {
   "cell_type": "markdown",
   "id": "55c005ab-620b-4de5-aa8d-2db773b07577",
   "metadata": {},
   "source": [
    "| Data Science Tools|\n",
    "|-------------------|\n",
    "|JupyterLab|\n",
    "|Rstudio|\n",
    "|Jupyter Notebook|"
   ]
  },
  {
   "cell_type": "markdown",
   "id": "001560d0-3b78-45a2-8d4f-afd250c33cad",
   "metadata": {},
   "source": [
    "### Below are a few examples of evaluating arithmetic expressions in Python"
   ]
  },
  {
   "cell_type": "code",
   "execution_count": 3,
   "id": "2554fc73-1b9e-41e2-85f2-01d3f58b0a24",
   "metadata": {},
   "outputs": [
    {
     "data": {
      "text/plain": [
       "17"
      ]
     },
     "execution_count": 3,
     "metadata": {},
     "output_type": "execute_result"
    }
   ],
   "source": [
    "# This a simple arithmetic expression to mutiply then add integers\n",
    "(3*4)+5"
   ]
  },
  {
   "cell_type": "code",
   "execution_count": 5,
   "id": "1f4a90bf-22de-4bdb-ad80-22c1b60ddf42",
   "metadata": {},
   "outputs": [
    {
     "data": {
      "text/plain": [
       "3.3333333333333335"
      ]
     },
     "execution_count": 5,
     "metadata": {},
     "output_type": "execute_result"
    }
   ],
   "source": [
    "# This will convert 200 minutes to hours by diving by 60\n",
    "200/60\n"
   ]
  },
  {
   "cell_type": "markdown",
   "id": "a803b70e-1f39-482d-877b-c58fc1ef4814",
   "metadata": {},
   "source": [
    "## Author"
   ]
  },
  {
   "cell_type": "markdown",
   "id": "3d57f491-01cf-4592-a692-2b680a935782",
   "metadata": {},
   "source": [
    "Olha Iordatieva"
   ]
  },
  {
   "cell_type": "code",
   "execution_count": null,
   "id": "dc3ec7f9-6609-42bf-80f9-3bbfa24cf68d",
   "metadata": {},
   "outputs": [],
   "source": []
  }
 ],
 "metadata": {
  "kernelspec": {
   "display_name": "Python 3 (ipykernel)",
   "language": "python",
   "name": "python3"
  },
  "language_info": {
   "codemirror_mode": {
    "name": "ipython",
    "version": 3
   },
   "file_extension": ".py",
   "mimetype": "text/x-python",
   "name": "python",
   "nbconvert_exporter": "python",
   "pygments_lexer": "ipython3",
   "version": "3.12.8"
  }
 },
 "nbformat": 4,
 "nbformat_minor": 5
}
