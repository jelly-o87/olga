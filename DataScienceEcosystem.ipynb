{
  "metadata": {
    "kernelspec": {
      "name": "python",
      "display_name": "Python (Pyodide)",
      "language": "python"
    },
    "language_info": {
      "codemirror_mode": {
        "name": "python",
        "version": 3
      },
      "file_extension": ".py",
      "mimetype": "text/x-python",
      "name": "python",
      "nbconvert_exporter": "python",
      "pygments_lexer": "ipython3",
      "version": "3.8"
    }
  },
  "nbformat_minor": 5,
  "nbformat": 4,
  "cells": [
    {
      "id": "cfa38ca3-76df-4de2-be50-5505ce72b638",
      "cell_type": "markdown",
      "source": "# Data Science Tools and Ecosystem\n",
      "metadata": {}
    },
    {
      "id": "224a6c75-afd3-41d2-982b-26e2bed0e1c4",
      "cell_type": "markdown",
      "source": "In this notebook, Data Science Tools and Ecosystem are summarized.",
      "metadata": {}
    },
    {
      "id": "e0e86ea7-45b2-4486-bf56-ebc057d157ac",
      "cell_type": "markdown",
      "source": "**Objectives:**",
      "metadata": {}
    },
    {
      "id": "001dffe6-f493-4023-ba03-19d944441b88",
      "cell_type": "markdown",
      "source": "• List popular languages for Data Science\n\n• List the commonly used libraries used by Data Scientists\n\n• Name the main Data Science Tools\n\n• Evaluate some arithmetic expressions in Python",
      "metadata": {}
    },
    {
      "id": "759f644d-39a8-49eb-9d38-4af90639d087",
      "cell_type": "markdown",
      "source": "Some of the popular languages that Data Scientists use are:",
      "metadata": {}
    },
    {
      "id": "7395c310-de7e-46eb-b200-c79f08318dde",
      "cell_type": "markdown",
      "source": "1. Python\n2. Scala\n3. R\n4. Java+\n5. C++",
      "metadata": {}
    },
    {
      "id": "c187c705-4d51-48ba-976f-022bf91c2c93",
      "cell_type": "markdown",
      "source": "Some of the commonly used libraries used by Data Scientists include:",
      "metadata": {}
    },
    {
      "id": "0eb823c6-d56d-4ad6-810d-6e35aacef6bd",
      "cell_type": "markdown",
      "source": "1. NumPy\n2.  Pandas\n3. Keras\n4. Seaborn",
      "metadata": {}
    },
    {
      "id": "55c005ab-620b-4de5-aa8d-2db773b07577",
      "cell_type": "markdown",
      "source": "| Data Science Tools|\n|-------------------|\n|JupyterLab|\n|Rstudio|\n|Jupyter Notebook|",
      "metadata": {}
    },
    {
      "id": "001560d0-3b78-45a2-8d4f-afd250c33cad",
      "cell_type": "markdown",
      "source": "### Below are a few examples of evaluating arithmetic expressions in Python",
      "metadata": {}
    },
    {
      "id": "2554fc73-1b9e-41e2-85f2-01d3f58b0a24",
      "cell_type": "code",
      "source": "# This a simple arithmetic expression to mutiply then add integers\n(3*4)+5",
      "metadata": {
        "trusted": true
      },
      "outputs": [
        {
          "execution_count": 3,
          "output_type": "execute_result",
          "data": {
            "text/plain": "17"
          },
          "metadata": {}
        }
      ],
      "execution_count": 3
    },
    {
      "id": "1f4a90bf-22de-4bdb-ad80-22c1b60ddf42",
      "cell_type": "code",
      "source": "# This will convert 200 minutes to hours by diving by 60\n200/60\n",
      "metadata": {
        "trusted": true
      },
      "outputs": [
        {
          "execution_count": 5,
          "output_type": "execute_result",
          "data": {
            "text/plain": "3.3333333333333335"
          },
          "metadata": {}
        }
      ],
      "execution_count": 5
    },
    {
      "id": "a803b70e-1f39-482d-877b-c58fc1ef4814",
      "cell_type": "markdown",
      "source": "## Author",
      "metadata": {}
    },
    {
      "id": "3d57f491-01cf-4592-a692-2b680a935782",
      "cell_type": "markdown",
      "source": "Olha Iordatieva",
      "metadata": {}
    },
    {
      "id": "dc3ec7f9-6609-42bf-80f9-3bbfa24cf68d",
      "cell_type": "code",
      "source": "",
      "metadata": {
        "trusted": true
      },
      "outputs": [],
      "execution_count": null
    }
  ]
}